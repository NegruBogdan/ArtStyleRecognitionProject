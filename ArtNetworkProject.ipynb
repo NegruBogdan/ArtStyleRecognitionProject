{
 "cells": [
  {
   "cell_type": "code",
   "execution_count": 1,
   "metadata": {},
   "outputs": [
    {
     "name": "stdout",
     "output_type": "stream",
     "text": [
      "Requirement already satisfied: pandas in d:\\utilitati\\anaconda\\lib\\site-packages (1.3.4)\n",
      "Requirement already satisfied: python-dateutil>=2.7.3 in d:\\utilitati\\anaconda\\lib\\site-packages (from pandas) (2.8.2)\n",
      "Requirement already satisfied: pytz>=2017.3 in d:\\utilitati\\anaconda\\lib\\site-packages (from pandas) (2021.3)\n",
      "Requirement already satisfied: numpy>=1.17.3 in d:\\utilitati\\anaconda\\lib\\site-packages (from pandas) (1.20.3)\n",
      "Requirement already satisfied: six>=1.5 in d:\\utilitati\\anaconda\\lib\\site-packages (from python-dateutil>=2.7.3->pandas) (1.16.0)\n"
     ]
    }
   ],
   "source": [
    "import sys\n",
    "!{sys.executable} -m pip install pandas"
   ]
  },
  {
   "cell_type": "markdown",
   "metadata": {
    "id": "lwGW2ipqKqpz"
   },
   "source": [
    "## Definim reteaua"
   ]
  },
  {
   "cell_type": "code",
   "execution_count": 2,
   "metadata": {
    "id": "t2R3Yc_O8Aqd"
   },
   "outputs": [],
   "source": [
    "import numpy as np\n",
    "import torch\n",
    "import torch.nn as nn\n",
    "class CAN(nn.Module):\n",
    "    def __init__(self):\n",
    "        super().__init__()\n",
    "        self.conv1 = nn.Conv2d(in_channels = 3, out_channels = 100, kernel_size = 5)\n",
    "        self.maxpool1 = nn.MaxPool2d(kernel_size = 2, return_indices=True)\n",
    "        self.conv2 = nn.Conv2d(in_channels = 100, out_channels = 200, kernel_size = 5)\n",
    "        self.maxpool2 = nn.MaxPool2d(kernel_size = 2, return_indices=True)\n",
    "        self.maxunpool1 = nn.MaxUnpool2d(kernel_size = 2)\n",
    "        self.deconnv1 = nn.ConvTranspose2d(in_channels = 200, out_channels = 100, kernel_size = 5)\n",
    "        self.maxunpool2 = nn.MaxUnpool2d(kernel_size = 2)\n",
    "        self.deconv2 = nn.ConvTranspose2d(in_channels = 100, out_channels = 3, kernel_size = 5)\n",
    "        self.activ = nn.ReLU()\n",
    "\n",
    "    def forward(self, x):\n",
    "        x = self.conv1(x)\n",
    "        x, indices1 = self.maxpool1(x)\n",
    "        x = self.activ(x)\n",
    "        x = self.conv2(x)\n",
    "        x, indices2 = self.maxpool2(x)\n",
    "        x = self.activ(x)\n",
    "        x = self.maxunpool1(x,indices2)\n",
    "        x = self.deconnv1(x)\n",
    "        x = self.activ(x)\n",
    "        x = self.maxunpool2(x,indices1)\n",
    "        x = self.deconv2(x)\n",
    "        x = self.activ(x)\n",
    "        return x"
   ]
  },
  {
   "cell_type": "code",
   "execution_count": 3,
   "metadata": {
    "id": "NCevt2cfxWjK"
   },
   "outputs": [],
   "source": [
    "import torchvision\n",
    "class ArtNet(nn.Module):\n",
    "    def __init__(self):\n",
    "        super().__init__()\n",
    "        self.encoder = CAN()\n",
    "        self.resnet = torchvision.models.resnet18(pretrained= False)#True)\n",
    "        self.relu = torch.nn.ReLU()\n",
    "        self.norm1 = torch.nn.BatchNorm1d(self.resnet.fc.out_features)\n",
    "        self.avg1 = torch.nn.AvgPool1d(kernel_size=4,stride=4)\n",
    "        self.additional_layer1 = torch.nn.Linear(250,136)\n",
    "\n",
    "    def forward(self,x):\n",
    "        x = self.encoder(x)\n",
    "        x = self.resnet(x)\n",
    "        x = self.relu(x)\n",
    "        x = self.norm1(x)\n",
    "        x = self.avg1(x)\n",
    "        x = self.additional_layer1(x)\n",
    "        x = self.relu(x)\n",
    "        return x"
   ]
  },
  {
   "cell_type": "markdown",
   "metadata": {
    "id": "gd6T9ggTKho8"
   },
   "source": [
    "## Initializam dataloaderul"
   ]
  },
  {
   "cell_type": "code",
   "execution_count": 4,
   "metadata": {
    "colab": {
     "base_uri": "https://localhost:8080/",
     "height": 74,
     "resources": {
      "http://localhost:8080/nbextensions/google.colab/files.js": {
       "data": "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",
       "headers": [
        [
         "content-type",
         "application/javascript"
        ]
       ],
       "ok": true,
       "status": 200,
       "status_text": ""
      }
     }
    },
    "id": "B881GVgB5Ou9",
    "outputId": "4946448b-307c-4e8c-a280-621bdcc2fb82"
   },
   "outputs": [],
   "source": [
    "import pandas as pd\n",
    "\n",
    "df = pd.read_csv(r\"D:\\Descarcari\\Dataset\\all_data_info.csv\")"
   ]
  },
  {
   "cell_type": "code",
   "execution_count": 5,
   "metadata": {},
   "outputs": [
    {
     "data": {
      "text/html": [
       "<div>\n",
       "<style scoped>\n",
       "    .dataframe tbody tr th:only-of-type {\n",
       "        vertical-align: middle;\n",
       "    }\n",
       "\n",
       "    .dataframe tbody tr th {\n",
       "        vertical-align: top;\n",
       "    }\n",
       "\n",
       "    .dataframe thead th {\n",
       "        text-align: right;\n",
       "    }\n",
       "</style>\n",
       "<table border=\"1\" class=\"dataframe\">\n",
       "  <thead>\n",
       "    <tr style=\"text-align: right;\">\n",
       "      <th></th>\n",
       "      <th>artist</th>\n",
       "      <th>date</th>\n",
       "      <th>genre</th>\n",
       "      <th>pixelsx</th>\n",
       "      <th>pixelsy</th>\n",
       "      <th>size_bytes</th>\n",
       "      <th>source</th>\n",
       "      <th>style</th>\n",
       "      <th>title</th>\n",
       "      <th>artist_group</th>\n",
       "      <th>in_train</th>\n",
       "      <th>new_filename</th>\n",
       "    </tr>\n",
       "  </thead>\n",
       "  <tbody>\n",
       "    <tr>\n",
       "      <th>0</th>\n",
       "      <td>Barnett Newman</td>\n",
       "      <td>1955.0</td>\n",
       "      <td>abstract</td>\n",
       "      <td>15530.0</td>\n",
       "      <td>6911.0</td>\n",
       "      <td>9201912.0</td>\n",
       "      <td>wikiart</td>\n",
       "      <td>Color Field Painting</td>\n",
       "      <td>Uriel</td>\n",
       "      <td>train_only</td>\n",
       "      <td>True</td>\n",
       "      <td>102257.jpg</td>\n",
       "    </tr>\n",
       "    <tr>\n",
       "      <th>1</th>\n",
       "      <td>Barnett Newman</td>\n",
       "      <td>1950.0</td>\n",
       "      <td>abstract</td>\n",
       "      <td>14559.0</td>\n",
       "      <td>6866.0</td>\n",
       "      <td>8867532.0</td>\n",
       "      <td>wikiart</td>\n",
       "      <td>Color Field Painting</td>\n",
       "      <td>Vir Heroicus Sublimis</td>\n",
       "      <td>train_only</td>\n",
       "      <td>True</td>\n",
       "      <td>75232.jpg</td>\n",
       "    </tr>\n",
       "    <tr>\n",
       "      <th>2</th>\n",
       "      <td>kiri nichol</td>\n",
       "      <td>2013.0</td>\n",
       "      <td>NaN</td>\n",
       "      <td>9003.0</td>\n",
       "      <td>9004.0</td>\n",
       "      <td>1756681.0</td>\n",
       "      <td>NaN</td>\n",
       "      <td>Neoplasticism</td>\n",
       "      <td>NaN</td>\n",
       "      <td>test_only</td>\n",
       "      <td>False</td>\n",
       "      <td>32145.jpg</td>\n",
       "    </tr>\n",
       "    <tr>\n",
       "      <th>3</th>\n",
       "      <td>kiri nichol</td>\n",
       "      <td>2013.0</td>\n",
       "      <td>NaN</td>\n",
       "      <td>9003.0</td>\n",
       "      <td>9004.0</td>\n",
       "      <td>1942046.0</td>\n",
       "      <td>NaN</td>\n",
       "      <td>Neoplasticism</td>\n",
       "      <td>NaN</td>\n",
       "      <td>test_only</td>\n",
       "      <td>False</td>\n",
       "      <td>20304.jpg</td>\n",
       "    </tr>\n",
       "    <tr>\n",
       "      <th>4</th>\n",
       "      <td>kiri nichol</td>\n",
       "      <td>2013.0</td>\n",
       "      <td>NaN</td>\n",
       "      <td>9003.0</td>\n",
       "      <td>9004.0</td>\n",
       "      <td>1526212.0</td>\n",
       "      <td>NaN</td>\n",
       "      <td>Neoplasticism</td>\n",
       "      <td>NaN</td>\n",
       "      <td>test_only</td>\n",
       "      <td>False</td>\n",
       "      <td>836.jpg</td>\n",
       "    </tr>\n",
       "    <tr>\n",
       "      <th>5</th>\n",
       "      <td>Tosa Mitsuoki</td>\n",
       "      <td>NaN</td>\n",
       "      <td>mythological painting</td>\n",
       "      <td>25528.0</td>\n",
       "      <td>3000.0</td>\n",
       "      <td>10496349.0</td>\n",
       "      <td>wikiart</td>\n",
       "      <td>Yamato-e</td>\n",
       "      <td>Night March of a Hundred Demons (left half)</td>\n",
       "      <td>train_only</td>\n",
       "      <td>True</td>\n",
       "      <td>29855.jpg</td>\n",
       "    </tr>\n",
       "    <tr>\n",
       "      <th>6</th>\n",
       "      <td>Barnett Newman</td>\n",
       "      <td>NaN</td>\n",
       "      <td>abstract</td>\n",
       "      <td>7345.0</td>\n",
       "      <td>8640.0</td>\n",
       "      <td>6383948.0</td>\n",
       "      <td>wikiart</td>\n",
       "      <td>Color Field Painting</td>\n",
       "      <td>Who’s Afraid of Red,  Yellow and Blue II</td>\n",
       "      <td>train_only</td>\n",
       "      <td>True</td>\n",
       "      <td>62252.jpg</td>\n",
       "    </tr>\n",
       "    <tr>\n",
       "      <th>7</th>\n",
       "      <td>Hiroshige</td>\n",
       "      <td>1838</td>\n",
       "      <td>bird-and-flower painting</td>\n",
       "      <td>6483.0</td>\n",
       "      <td>9276.0</td>\n",
       "      <td>12762418.0</td>\n",
       "      <td>wikiart</td>\n",
       "      <td>Ukiyo-e</td>\n",
       "      <td>Small Bird on a Branch of Kaidozakura</td>\n",
       "      <td>train_and_test</td>\n",
       "      <td>False</td>\n",
       "      <td>49823.jpg</td>\n",
       "    </tr>\n",
       "    <tr>\n",
       "      <th>8</th>\n",
       "      <td>Barnett Newman</td>\n",
       "      <td>1963.0</td>\n",
       "      <td>abstract</td>\n",
       "      <td>6049.0</td>\n",
       "      <td>8206.0</td>\n",
       "      <td>1135960.0</td>\n",
       "      <td>wikiart</td>\n",
       "      <td>Color Field Painting</td>\n",
       "      <td>Black Fire I</td>\n",
       "      <td>train_only</td>\n",
       "      <td>True</td>\n",
       "      <td>63861.jpg</td>\n",
       "    </tr>\n",
       "    <tr>\n",
       "      <th>9</th>\n",
       "      <td>Franz Richard Unterberger</td>\n",
       "      <td>NaN</td>\n",
       "      <td>cityscape</td>\n",
       "      <td>6238.0</td>\n",
       "      <td>7352.0</td>\n",
       "      <td>7896792.0</td>\n",
       "      <td>wikiart</td>\n",
       "      <td>Romanticism</td>\n",
       "      <td>Procession in Naples</td>\n",
       "      <td>train_and_test</td>\n",
       "      <td>False</td>\n",
       "      <td>84512.jpg</td>\n",
       "    </tr>\n",
       "  </tbody>\n",
       "</table>\n",
       "</div>"
      ],
      "text/plain": [
       "                      artist    date                     genre  pixelsx  \\\n",
       "0             Barnett Newman  1955.0                  abstract  15530.0   \n",
       "1             Barnett Newman  1950.0                  abstract  14559.0   \n",
       "2                kiri nichol  2013.0                       NaN   9003.0   \n",
       "3                kiri nichol  2013.0                       NaN   9003.0   \n",
       "4                kiri nichol  2013.0                       NaN   9003.0   \n",
       "5              Tosa Mitsuoki     NaN     mythological painting  25528.0   \n",
       "6             Barnett Newman     NaN                  abstract   7345.0   \n",
       "7                  Hiroshige    1838  bird-and-flower painting   6483.0   \n",
       "8             Barnett Newman  1963.0                  abstract   6049.0   \n",
       "9  Franz Richard Unterberger     NaN                 cityscape   6238.0   \n",
       "\n",
       "   pixelsy  size_bytes   source                 style  \\\n",
       "0   6911.0   9201912.0  wikiart  Color Field Painting   \n",
       "1   6866.0   8867532.0  wikiart  Color Field Painting   \n",
       "2   9004.0   1756681.0      NaN         Neoplasticism   \n",
       "3   9004.0   1942046.0      NaN         Neoplasticism   \n",
       "4   9004.0   1526212.0      NaN         Neoplasticism   \n",
       "5   3000.0  10496349.0  wikiart              Yamato-e   \n",
       "6   8640.0   6383948.0  wikiart  Color Field Painting   \n",
       "7   9276.0  12762418.0  wikiart               Ukiyo-e   \n",
       "8   8206.0   1135960.0  wikiart  Color Field Painting   \n",
       "9   7352.0   7896792.0  wikiart           Romanticism   \n",
       "\n",
       "                                         title    artist_group  in_train  \\\n",
       "0                                        Uriel      train_only      True   \n",
       "1                        Vir Heroicus Sublimis      train_only      True   \n",
       "2                                          NaN       test_only     False   \n",
       "3                                          NaN       test_only     False   \n",
       "4                                          NaN       test_only     False   \n",
       "5  Night March of a Hundred Demons (left half)      train_only      True   \n",
       "6     Who’s Afraid of Red,  Yellow and Blue II      train_only      True   \n",
       "7        Small Bird on a Branch of Kaidozakura  train_and_test     False   \n",
       "8                                Black Fire I       train_only      True   \n",
       "9                        Procession in Naples   train_and_test     False   \n",
       "\n",
       "  new_filename  \n",
       "0   102257.jpg  \n",
       "1    75232.jpg  \n",
       "2    32145.jpg  \n",
       "3    20304.jpg  \n",
       "4      836.jpg  \n",
       "5    29855.jpg  \n",
       "6    62252.jpg  \n",
       "7    49823.jpg  \n",
       "8    63861.jpg  \n",
       "9    84512.jpg  "
      ]
     },
     "execution_count": 5,
     "metadata": {},
     "output_type": "execute_result"
    }
   ],
   "source": [
    "df.head(10)"
   ]
  },
  {
   "cell_type": "code",
   "execution_count": 6,
   "metadata": {
    "id": "gHputwbKL2Pk"
   },
   "outputs": [],
   "source": [
    "list_of_styles = list(pd.unique(df['style']))"
   ]
  },
  {
   "cell_type": "code",
   "execution_count": 7,
   "metadata": {
    "id": "TeR186KyDWRp"
   },
   "outputs": [],
   "source": [
    "df = df.drop(columns = ['artist','date','genre','pixelsx','pixelsy','size_bytes','source','title'])\n",
    "#df.drop('date')\n",
    "#df.drop('genre')\n",
    "#df.drop('pixelsx')\n",
    "#df.drop('pixelsy')\n",
    "#df.drop('size_byte')\n",
    "#df.drop('source')\n",
    "#df.drop('title')\n"
   ]
  },
  {
   "cell_type": "code",
   "execution_count": 8,
   "metadata": {},
   "outputs": [
    {
     "name": "stdout",
     "output_type": "stream",
     "text": [
      "style           object\n",
      "artist_group    object\n",
      "in_train          bool\n",
      "new_filename    object\n",
      "dtype: object\n"
     ]
    }
   ],
   "source": [
    "print(df.dtypes)"
   ]
  },
  {
   "cell_type": "code",
   "execution_count": 9,
   "metadata": {},
   "outputs": [],
   "source": [
    "\n",
    "df_train = df.loc[df['in_train']]\n",
    "df_test = df.loc[df['artist_group'] != 'train_only']"
   ]
  },
  {
   "cell_type": "code",
   "execution_count": 10,
   "metadata": {
    "id": "mefhzB1JDhyI"
   },
   "outputs": [],
   "source": [
    "from torchvision.io import read_image\n",
    "import os\n",
    "class PaintingDataset(torch.utils.data.Dataset):\n",
    "    def __init__(self, annotations_file, img_dir, transform=None, target_transform=None):\n",
    "        self.img_labels = annotations_file\n",
    "        self.img_dir = img_dir\n",
    "        self.transform = transform\n",
    "        self.target_transform = target_transform\n",
    "\n",
    "    def __len__(self):\n",
    "        return len(self.img_labels)\n",
    "\n",
    "    def __getitem__(self, idx):\n",
    "        img_path = os.path.abspath(os.path.join(self.img_dir,self.img_labels.iloc[idx,3]).replace('jpg','png'))\n",
    "        #print(img_path)\n",
    "        try:\n",
    "            image = read_image(img_path)\n",
    "        except:\n",
    "            return None\n",
    "        label = list_of_styles.index(self.img_labels.iloc[idx, 0])\n",
    "        if self.transform:\n",
    "            image = self.transform(image)\n",
    "        if self.target_transform:\n",
    "            label = self.target_transform(label)\n",
    "        return image, label"
   ]
  },
  {
   "cell_type": "code",
   "execution_count": 11,
   "metadata": {
    "id": "CQ2HxsflO7Rf"
   },
   "outputs": [],
   "source": [
    "import numpy as np\n",
    "from torch.utils.data import DataLoader\n",
    "from torchvision.transforms import Normalize,Grayscale\n",
    "from torchvision.transforms.functional import to_tensor,  normalize\n",
    "\n",
    "my_transform = Normalize([0.5], [0.5])\n",
    "grayscale_prevent = Grayscale(num_output_channels = 3)\n",
    "def my_collate(examples):\n",
    "    images = []\n",
    "    labels = []\n",
    "    examples = list(filter(lambda x: x is not None, examples))\n",
    "    for example in examples:\n",
    "        image = example[0]\n",
    "        if image.shape != (3, 256, 256):\n",
    "            continue\n",
    "        image = image.float()\n",
    "        image = image.unsqueeze(0)\n",
    "        image = my_transform(image)\n",
    "        images.append(image)\n",
    "        label = np.array([example[1]])\n",
    "        label = torch.Tensor(label)\n",
    "        label = label.unsqueeze(0)\n",
    "        labels.append(label)\n",
    "    images = torch.cat(images,  dim=0)\n",
    "    labels = torch.cat(labels, dim=0)\n",
    "    return images, labels"
   ]
  },
  {
   "cell_type": "code",
   "execution_count": 12,
   "metadata": {
    "id": "TAKZKOV5KKlg"
   },
   "outputs": [],
   "source": [
    "training_data = PaintingDataset(df_train,'D:\\Descarcari\\Dataset',transform = torchvision.transforms.Resize(size = (256,256)))\n",
    "testing_data = PaintingDataset(df_test,'D:\\Descarcari\\Dataset',transform = torchvision.transforms.Resize(size = (256,256)))\n",
    "\n"
   ]
  },
  {
   "cell_type": "code",
   "execution_count": 13,
   "metadata": {},
   "outputs": [],
   "source": [
    "train_dataloader = DataLoader(training_data, batch_size=5, shuffle=False,collate_fn=my_collate)\n",
    "test_dataloader = DataLoader(testing_data, batch_size=5, shuffle=False,collate_fn=my_collate)"
   ]
  },
  {
   "cell_type": "markdown",
   "metadata": {
    "id": "w8veyKAKKSLN"
   },
   "source": [
    "### Implementarea functiei de loss"
   ]
  },
  {
   "cell_type": "code",
   "execution_count": 14,
   "metadata": {
    "id": "aRGKOwlMmNTl"
   },
   "outputs": [],
   "source": [
    "class my_loss(nn.Module):\n",
    "    def __init__(self):\n",
    "        super().__init__()\n",
    "        self.cos = nn.CosineSimilarity(dim=0)\n",
    "\n",
    "    def forward(self,out,labels):\n",
    "        out_list = list(torch.unbind(out,dim = 0))\n",
    "        labels_list = list(torch.unbind(labels,dim = 0))\n",
    "        total = 0\n",
    "        counts = 0\n",
    "        for i in range(len(out_list)+1):\n",
    "            for j in range(i):\n",
    "                if i != j:\n",
    "                    counts = counts + 1\n",
    "                    labels = 1 if labels_list[i-1]==labels_list[j] else -1\n",
    "                total = total +(labels-self.cos(out_list[i-1],out_list[j]))**2\n",
    "        return total/counts\n",
    "    "
   ]
  },
  {
   "cell_type": "markdown",
   "metadata": {
    "id": "9OuySYpEKcL9"
   },
   "source": [
    "## Definim antrenarea "
   ]
  },
  {
   "cell_type": "code",
   "execution_count": 15,
   "metadata": {
    "id": "IDIrwq2830it"
   },
   "outputs": [],
   "source": [
    "import torch.optim as optim\n",
    "\n",
    "epochs = 75\n",
    "\n",
    "net = ArtNet()\n",
    "net.cuda()\n",
    "\n",
    "optimiser = optim.Adam(params= net.parameters(),lr = 1e-4)\n",
    "optimiser.zero_grad()\n",
    "\n",
    "loss = my_loss()\n"
   ]
  },
  {
   "cell_type": "code",
   "execution_count": 16,
   "metadata": {
    "id": "1Fxf-lSaxbS2"
   },
   "outputs": [],
   "source": [
    "from itertools import combinations\n",
    "\n",
    "#precision may vary depending on what someone else would consider enough similarity/disimilarity to draw a conclusion\n",
    "def test_acc(net: nn.Module, test_loader: DataLoader):\n",
    "    net.eval()\n",
    "    cos = nn.CosineSimilarity(dim=1,eps = 1e-6)\n",
    "    total = 0\n",
    "    correct = 0\n",
    "    batchnr = 1\n",
    "    for test_images, test_labels in test_loader:\n",
    "        test_images = test_images.cuda()\n",
    "        test_labels = test_labels.cuda()\n",
    "        images_list = list(torch.unbind(test_images,dim = 0))\n",
    "        labels_list = list(torch.unbind(test_labels,dim = 0))\n",
    "        for i in range(len(images_list)+1):\n",
    "            for j in range(i):\n",
    "                if i != j:\n",
    "                    total = total + 1\n",
    "                    should_be_similar = True if labels_list[i-1] == labels_list[j] else False\n",
    "                    proximity = cos(net(images_list[i-1].unsqueeze(0)),net(images_list[j].unsqueeze(0)))\n",
    "                    if (proximity < -0.9 and not should_be_similar) or (proximity > 0.9 and should_be_similar):\n",
    "                        correct = correct + 1\n",
    "        if batchnr  == 100: \n",
    "            break\n",
    "        batchnr = batchnr + 1\n",
    "    return correct / total * 100\n",
    "\n",
    "\n",
    "def train(epochs: int, train_loader: DataLoader, test_loader: DataLoader, net: nn.Module, loss_fn: nn.Module, optimizer: optim.Optimizer):\n",
    "    for e in range(epochs):\n",
    "        net.train()\n",
    "        batchnr = 1\n",
    "        for images, labels in train_loader:\n",
    "            images = images.cuda()\n",
    "            labels = labels.cuda()\n",
    "            out = net(images)\n",
    "            labels = torch.reshape(labels,(-1,)).long()\n",
    "            loss = loss_fn(out,labels)\n",
    "            batchnr = batchnr +1\n",
    "            loss.backward()\n",
    "            optimizer.step()\n",
    "            optimizer.zero_grad()\n",
    "            if batchnr  == 500:\n",
    "                #print('batchul '+str(batchnr)+' epoca '+str(e)+' are loss '+str(loss.item()))\n",
    "                print(\"Loss-ul la finalul epocii {} are valoarea {}\".format(e + 1, loss.item()))\n",
    "                break\n",
    "        acc = test_acc(net, test_loader)\n",
    "        print(\"Acuratetea la finalul epocii {} este {:.2f}%\".format(e + 1, acc))\n"
   ]
  },
  {
   "cell_type": "code",
   "execution_count": null,
   "metadata": {
    "id": "VYu3rSRALHDc"
   },
   "outputs": [
    {
     "name": "stderr",
     "output_type": "stream",
     "text": [
      "D:\\Utilitati\\Anaconda\\lib\\site-packages\\torch\\nn\\functional.py:749: UserWarning: Note that order of the arguments: ceil_mode and return_indices will changeto match the args list in nn.MaxPool2d in a future release.\n",
      "  warnings.warn(\"Note that order of the arguments: ceil_mode and return_indices will change\"\n"
     ]
    },
    {
     "name": "stdout",
     "output_type": "stream",
     "text": [
      "Loss-ul la finalul epocii 1 are valoarea 0.7600237131118774\n",
      "Acuratetea la finalul epocii 1 este 34.48%\n",
      "Loss-ul la finalul epocii 2 are valoarea 0.7330319881439209\n",
      "Acuratetea la finalul epocii 2 este 34.75%\n",
      "Loss-ul la finalul epocii 3 are valoarea 0.764802098274231\n",
      "Acuratetea la finalul epocii 3 este 34.28%\n",
      "Loss-ul la finalul epocii 4 are valoarea 0.6846963763237\n",
      "Acuratetea la finalul epocii 4 este 34.34%\n",
      "Loss-ul la finalul epocii 5 are valoarea 0.7704229354858398\n",
      "Acuratetea la finalul epocii 5 este 33.94%\n",
      "Loss-ul la finalul epocii 6 are valoarea 0.7617591619491577\n",
      "Acuratetea la finalul epocii 6 este 39.80%\n",
      "Loss-ul la finalul epocii 7 are valoarea 0.6828377842903137\n",
      "Acuratetea la finalul epocii 7 este 35.02%\n",
      "Loss-ul la finalul epocii 8 are valoarea 0.7334938645362854\n",
      "Acuratetea la finalul epocii 8 este 33.80%\n",
      "Loss-ul la finalul epocii 9 are valoarea 0.7003701329231262\n",
      "Acuratetea la finalul epocii 9 este 33.74%\n",
      "Loss-ul la finalul epocii 10 are valoarea 0.7171266674995422\n",
      "Acuratetea la finalul epocii 10 este 33.40%\n",
      "Loss-ul la finalul epocii 11 are valoarea 0.7897607684135437\n",
      "Acuratetea la finalul epocii 11 este 33.54%\n",
      "Loss-ul la finalul epocii 12 are valoarea 0.675618052482605\n",
      "Acuratetea la finalul epocii 12 este 33.60%\n",
      "Loss-ul la finalul epocii 13 are valoarea 0.8107550740242004\n",
      "Acuratetea la finalul epocii 13 este 34.34%\n",
      "Loss-ul la finalul epocii 14 are valoarea 0.6666666865348816\n",
      "Acuratetea la finalul epocii 14 este 33.13%\n",
      "Loss-ul la finalul epocii 15 are valoarea 0.6666666865348816\n",
      "Acuratetea la finalul epocii 15 este 32.05%\n",
      "Loss-ul la finalul epocii 16 are valoarea 0.6677152514457703\n",
      "Acuratetea la finalul epocii 16 este 33.33%\n",
      "Loss-ul la finalul epocii 17 are valoarea 0.6805336475372314\n",
      "Acuratetea la finalul epocii 17 este 33.87%\n",
      "Loss-ul la finalul epocii 18 are valoarea 0.7393757104873657\n",
      "Acuratetea la finalul epocii 18 este 33.13%\n",
      "Loss-ul la finalul epocii 19 are valoarea 0.680033266544342\n",
      "Acuratetea la finalul epocii 19 este 32.93%\n",
      "Loss-ul la finalul epocii 20 are valoarea 0.6682541370391846\n",
      "Acuratetea la finalul epocii 20 este 32.86%\n",
      "Loss-ul la finalul epocii 21 are valoarea 0.6671538352966309\n",
      "Acuratetea la finalul epocii 21 este 31.85%\n",
      "Loss-ul la finalul epocii 22 are valoarea 0.8137943148612976\n",
      "Acuratetea la finalul epocii 22 este 34.41%\n",
      "Loss-ul la finalul epocii 23 are valoarea 0.6724937558174133\n",
      "Acuratetea la finalul epocii 23 este 33.74%\n",
      "Loss-ul la finalul epocii 24 are valoarea 0.7922092080116272\n",
      "Acuratetea la finalul epocii 24 este 33.67%\n",
      "Loss-ul la finalul epocii 25 are valoarea 0.7012495994567871\n",
      "Acuratetea la finalul epocii 25 este 34.14%\n",
      "Loss-ul la finalul epocii 26 are valoarea 0.669501006603241\n",
      "Acuratetea la finalul epocii 26 este 32.93%\n",
      "Loss-ul la finalul epocii 27 are valoarea 0.6693624258041382\n",
      "Acuratetea la finalul epocii 27 este 32.05%\n",
      "Loss-ul la finalul epocii 28 are valoarea 0.6666666865348816\n",
      "Acuratetea la finalul epocii 28 este 33.00%\n",
      "Loss-ul la finalul epocii 29 are valoarea 0.6681355237960815\n",
      "Acuratetea la finalul epocii 29 este 32.59%\n",
      "Loss-ul la finalul epocii 30 are valoarea 0.6998779773712158\n",
      "Acuratetea la finalul epocii 30 este 33.40%\n",
      "Loss-ul la finalul epocii 31 are valoarea 0.7423239350318909\n",
      "Acuratetea la finalul epocii 31 este 29.97%\n",
      "Loss-ul la finalul epocii 32 are valoarea 0.6708958745002747\n",
      "Acuratetea la finalul epocii 32 este 30.17%\n",
      "Loss-ul la finalul epocii 33 are valoarea 0.7402833700180054\n",
      "Acuratetea la finalul epocii 33 este 31.58%\n",
      "Loss-ul la finalul epocii 34 are valoarea 0.6850135922431946\n",
      "Acuratetea la finalul epocii 34 este 32.12%\n",
      "Loss-ul la finalul epocii 35 are valoarea 0.8000000715255737\n",
      "Acuratetea la finalul epocii 35 este 31.99%\n",
      "Loss-ul la finalul epocii 36 are valoarea 0.6860284805297852\n",
      "Acuratetea la finalul epocii 36 este 33.67%\n",
      "Loss-ul la finalul epocii 37 are valoarea 0.8208865523338318\n",
      "Acuratetea la finalul epocii 37 este 33.87%\n"
     ]
    }
   ],
   "source": [
    "from PIL import ImageFile\n",
    "ImageFile.LOAD_TRUNCATED_IMAGES = True\n",
    "cuda = torch.device('cuda')\n",
    "torch.cuda.empty_cache()\n",
    "train(epochs, train_dataloader, test_dataloader, net, loss, optimiser)"
   ]
  },
  {
   "cell_type": "code",
   "execution_count": null,
   "metadata": {},
   "outputs": [],
   "source": []
  }
 ],
 "metadata": {
  "accelerator": "GPU",
  "colab": {
   "collapsed_sections": [],
   "name": "Painter_recognition_project.ipynb",
   "provenance": []
  },
  "kernelspec": {
   "display_name": "Python 3 (ipykernel)",
   "language": "python",
   "name": "python3"
  },
  "language_info": {
   "codemirror_mode": {
    "name": "ipython",
    "version": 3
   },
   "file_extension": ".py",
   "mimetype": "text/x-python",
   "name": "python",
   "nbconvert_exporter": "python",
   "pygments_lexer": "ipython3",
   "version": "3.9.7"
  }
 },
 "nbformat": 4,
 "nbformat_minor": 1
}
